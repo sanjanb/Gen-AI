{
  "nbformat": 4,
  "nbformat_minor": 0,
  "metadata": {
    "colab": {
      "provenance": [],
      "mount_file_id": "16rNeOJrX3DMYr0NAgYQcabOq0GtZL9gM",
      "authorship_tag": "ABX9TyNObnVrnuN7YnLBXm3rfvBi",
      "include_colab_link": true
    },
    "kernelspec": {
      "name": "python3",
      "display_name": "Python 3"
    },
    "language_info": {
      "name": "python"
    }
  },
  "cells": [
    {
      "cell_type": "markdown",
      "metadata": {
        "id": "view-in-github",
        "colab_type": "text"
      },
      "source": [
        "<a href=\"https://colab.research.google.com/github/sanjanb/Gen-AI/blob/main/Lab_01.ipynb\" target=\"_parent\"><img src=\"https://colab.research.google.com/assets/colab-badge.svg\" alt=\"Open In Colab\"/></a>"
      ]
    },
    {
      "cell_type": "markdown",
      "source": [
        "#**Gensim**: A Python library for NLP and word embeddings."
      ],
      "metadata": {
        "id": "YTnl6-zOAZR7"
      }
    },
    {
      "cell_type": "code",
      "source": [
        "!pip install gensim"
      ],
      "metadata": {
        "colab": {
          "base_uri": "https://localhost:8080/"
        },
        "id": "nCfE9tcC_bxz",
        "outputId": "47b9657e-0156-460d-f98b-f0e56bbe09cf"
      },
      "execution_count": 2,
      "outputs": [
        {
          "output_type": "stream",
          "name": "stdout",
          "text": [
            "Requirement already satisfied: gensim in /usr/local/lib/python3.11/dist-packages (4.3.3)\n",
            "Requirement already satisfied: numpy<2.0,>=1.18.5 in /usr/local/lib/python3.11/dist-packages (from gensim) (1.26.4)\n",
            "Requirement already satisfied: scipy<1.14.0,>=1.7.0 in /usr/local/lib/python3.11/dist-packages (from gensim) (1.13.1)\n",
            "Requirement already satisfied: smart-open>=1.8.1 in /usr/local/lib/python3.11/dist-packages (from gensim) (7.1.0)\n",
            "Requirement already satisfied: wrapt in /usr/local/lib/python3.11/dist-packages (from smart-open>=1.8.1->gensim) (1.17.2)\n"
          ]
        }
      ]
    },
    {
      "cell_type": "code",
      "execution_count": 3,
      "metadata": {
        "colab": {
          "base_uri": "https://localhost:8080/"
        },
        "id": "A2TToEhs_TqG",
        "outputId": "35fd8937-5185-43c1-9af1-bfc44052cd61"
      },
      "outputs": [
        {
          "output_type": "stream",
          "name": "stderr",
          "text": [
            "<ipython-input-3-220f9474494e>:9: DeprecationWarning: Call to deprecated `glove2word2vec` (KeyedVectors.load_word2vec_format(.., binary=False, no_header=True) loads GLoVE text vectors.).\n",
            "  glove2word2vec(glove_input_file, word2vec_output_file)\n"
          ]
        },
        {
          "output_type": "stream",
          "name": "stdout",
          "text": [
            "[('prince', 0.7682328820228577), ('queen', 0.7507690787315369), ('son', 0.7020888328552246), ('brother', 0.6985775232315063), ('monarch', 0.6977890729904175), ('throne', 0.6919989585876465), ('kingdom', 0.6811409592628479), ('father', 0.6802029013633728), ('emperor', 0.6712858080863953), ('ii', 0.6676074266433716)]\n"
          ]
        }
      ],
      "source": [
        "from gensim.scripts.glove2word2vec import glove2word2vec\n",
        "from gensim.models import KeyedVectors\n",
        "\n",
        "# Paths to the GloVe file and output Word2Vec file\n",
        "glove_input_file = \"/content/drive/MyDrive/Colab Notebooks/Gen-AI lab/glove.6B.100d.txt\" # Path to GloVe file\n",
        "word2vec_output_file = \"/content/drive/MyDrive/Colab Notebooks/Gen-AI lab/glove.6B.50d.word2vec.txt\" # Output\n",
        "\n",
        "# Convert GloVe format to Word2Vec format\n",
        "glove2word2vec(glove_input_file, word2vec_output_file)\n",
        "\n",
        "# Load the converted Word2Vec model\n",
        "model = KeyedVectors.load_word2vec_format(word2vec_output_file,\n",
        "binary=False)\n",
        "\n",
        "# Test the loaded model\n",
        "print(model.most_similar(\"king\"))"
      ]
    },
    {
      "cell_type": "markdown",
      "source": [
        "#Explore Word Relationships"
      ],
      "metadata": {
        "id": "D4F_WYWmAiaB"
      }
    },
    {
      "cell_type": "markdown",
      "source": [
        "##**Example 1**: Find Similar Words\n"
      ],
      "metadata": {
        "id": "gVuFEh2TAkGh"
      }
    },
    {
      "cell_type": "code",
      "source": [
        "similar_to_mysore = model.similar_by_vector(model['mysore'], topn=5)\n",
        "print(f\"Words similar to 'mysore': {similar_to_mysore}\")"
      ],
      "metadata": {
        "colab": {
          "base_uri": "https://localhost:8080/"
        },
        "id": "6FoyyRn6_4br",
        "outputId": "c33a334c-a1c6-4e73-d6d6-c2580bcbed67"
      },
      "execution_count": 4,
      "outputs": [
        {
          "output_type": "stream",
          "name": "stdout",
          "text": [
            "Words similar to 'mysore': [('mysore', 1.0), ('travancore', 0.6994104385375977), ('cochin', 0.6752076148986816), ('hyderabad', 0.6592637896537781), ('jaipur', 0.6591896414756775)]\n"
          ]
        }
      ]
    },
    {
      "cell_type": "markdown",
      "source": [
        "##**Example 2**: Gender Analogy (king - man + woman = queen)"
      ],
      "metadata": {
        "id": "RV91_W_4Aykx"
      }
    },
    {
      "cell_type": "code",
      "source": [
        "# Perform vector arithmetic\n",
        "result_vector_1 = model['actor'] - model['man'] + model['woman']\n",
        "# Find the most similar word\n",
        "result_1 = model.similar_by_vector(result_vector_1, topn=1)\n",
        "print(f\"'actor - man + woman' = {result_1}\")"
      ],
      "metadata": {
        "colab": {
          "base_uri": "https://localhost:8080/"
        },
        "id": "R1AcjS9RA1LR",
        "outputId": "221e0997-bba5-459f-9f7e-7f825d43b1a8"
      },
      "execution_count": 5,
      "outputs": [
        {
          "output_type": "stream",
          "name": "stdout",
          "text": [
            "'actor - man + woman' = [('actress', 0.9160683155059814)]\n"
          ]
        }
      ]
    },
    {
      "cell_type": "markdown",
      "source": [
        "##**Example 3**: Country-City Relationship (India - Delhi + Bangalore)"
      ],
      "metadata": {
        "id": "7t4HocBiA7uS"
      }
    },
    {
      "cell_type": "code",
      "source": [
        "# Perform vector arithmetic\n",
        "result_vector_2 = model['india'] - model['delhi'] + model['washington']\n",
        "# Find the most similar word\n",
        "result_2 = model.similar_by_vector(result_vector_2, topn=3)\n",
        "print(f\"'India - Delhi + Washington' = {result_2}\")"
      ],
      "metadata": {
        "colab": {
          "base_uri": "https://localhost:8080/"
        },
        "id": "HXdXMI-yA4lx",
        "outputId": "7847879a-05b7-48fb-c1ea-0c6abe78b071"
      },
      "execution_count": 6,
      "outputs": [
        {
          "output_type": "stream",
          "name": "stdout",
          "text": [
            "'India - Delhi + Washington' = [('states', 0.8375228643417358), ('united', 0.8281229734420776), ('washington', 0.8155243396759033)]\n"
          ]
        }
      ]
    },
    {
      "cell_type": "markdown",
      "source": [
        "# Perform Arithmetic Operations"
      ],
      "metadata": {
        "id": "nXJ1EsMEBC7x"
      }
    },
    {
      "cell_type": "code",
      "source": [
        "scaled_vector = model['hotel'] * 2\n",
        "result_2 = model.similar_by_vector(scaled_vector, topn=3)\n",
        "result_2"
      ],
      "metadata": {
        "colab": {
          "base_uri": "https://localhost:8080/"
        },
        "id": "UieVaNxnBFna",
        "outputId": "67468707-074a-4725-e019-f18a29e70164"
      },
      "execution_count": 8,
      "outputs": [
        {
          "output_type": "execute_result",
          "data": {
            "text/plain": [
              "[('hotel', 1.0),\n",
              " ('hotels', 0.7933705449104309),\n",
              " ('restaurant', 0.7762866020202637)]"
            ]
          },
          "metadata": {},
          "execution_count": 8
        }
      ]
    },
    {
      "cell_type": "markdown",
      "source": [
        "##**Example 2**: Normalizing Vectors"
      ],
      "metadata": {
        "id": "WSmx2NNKBZb5"
      }
    },
    {
      "cell_type": "code",
      "source": [
        "import numpy as np\n",
        "normalized_vector = model['fish'] / np.linalg.norm(model['fish'])\n",
        "result_2 = model.similar_by_vector(normalized_vector, topn=3)\n",
        "result_2"
      ],
      "metadata": {
        "colab": {
          "base_uri": "https://localhost:8080/"
        },
        "id": "qCLCLLPKBe6R",
        "outputId": "505b4083-6ef7-4310-fbe4-fa5fb680bc0f"
      },
      "execution_count": 9,
      "outputs": [
        {
          "output_type": "execute_result",
          "data": {
            "text/plain": [
              "[('fish', 1.0), ('shrimp', 0.7793381810188293), ('salmon', 0.760814368724823)]"
            ]
          },
          "metadata": {},
          "execution_count": 9
        }
      ]
    },
    {
      "cell_type": "markdown",
      "source": [
        "## **Example 3**: Averaging Vectors\n"
      ],
      "metadata": {
        "id": "p8CbjEwPBleh"
      }
    },
    {
      "cell_type": "code",
      "source": [
        "average_vector = (model['king'] + model['woman'] + model['man']) / 3\n",
        "result_2 = model.similar_by_vector(average_vector, topn=3)\n",
        "result_2"
      ],
      "metadata": {
        "colab": {
          "base_uri": "https://localhost:8080/"
        },
        "id": "lOhs2_eqBoF5",
        "outputId": "36e0a53b-0489-427c-b88c-3958fe24ad9f"
      },
      "execution_count": 10,
      "outputs": [
        {
          "output_type": "execute_result",
          "data": {
            "text/plain": [
              "[('man', 0.9197071194648743),\n",
              " ('woman', 0.8637868165969849),\n",
              " ('father', 0.8270207047462463)]"
            ]
          },
          "metadata": {},
          "execution_count": 10
        }
      ]
    },
    {
      "cell_type": "markdown",
      "source": [
        "# Calculate similarity between two words"
      ],
      "metadata": {
        "id": "_G3GtdzqBwUa"
      }
    },
    {
      "cell_type": "code",
      "source": [
        "# Paths to the GloVe file and output Word2Vec file\n",
        "glove_input_file = \"/content/drive/MyDrive/Colab Notebooks/Gen-AI lab/glove.6B.100d.txt\" # Path to GloVe file\n",
        "word2vec_output_file = \"/content/drive/MyDrive/Colab Notebooks/Gen-AI lab/glove.6B.50d.word2vec.txt\" # Output\n",
        "\n",
        "# Convert GloVe format to Word2Vec format\n",
        "glove2word2vec(glove_input_file, word2vec_output_file)\n",
        "\n",
        "# Load the converted Word2Vec model\n",
        "model_50d = KeyedVectors.load_word2vec_format(word2vec_output_file,\n",
        "binary=False)\n",
        "\n",
        "# Paths to the GloVe file and output Word2Vec file\n",
        "glove_input_file = \"/content/drive/MyDrive/Colab Notebooks/Gen-AI lab/glove.6B.100d.txt\" # Path to GloVe file\n",
        "word2vec_output_file = \"/content/drive/MyDrive/Colab Notebooks/Gen-AI lab/glove.6B.50d.word2vec.txt\" # Output\n",
        "\n",
        "# Convert GloVe format to Word2Vec format\n",
        "glove2word2vec(glove_input_file, word2vec_output_file)\n",
        "\n",
        "# Load the converted Word2Vec model\n",
        "model_100d = KeyedVectors.load_word2vec_format(word2vec_output_file,\n",
        "binary=False)\n"
      ],
      "metadata": {
        "colab": {
          "base_uri": "https://localhost:8080/"
        },
        "id": "Y3K2z2o9Bz-5",
        "outputId": "c76a4051-0639-4ae6-fc13-e4ca27ff6b0a"
      },
      "execution_count": 15,
      "outputs": [
        {
          "output_type": "stream",
          "name": "stderr",
          "text": [
            "<ipython-input-15-8b2bcec3e185>:6: DeprecationWarning: Call to deprecated `glove2word2vec` (KeyedVectors.load_word2vec_format(.., binary=False, no_header=True) loads GLoVE text vectors.).\n",
            "  glove2word2vec(glove_input_file, word2vec_output_file)\n",
            "<ipython-input-15-8b2bcec3e185>:17: DeprecationWarning: Call to deprecated `glove2word2vec` (KeyedVectors.load_word2vec_format(.., binary=False, no_header=True) loads GLoVE text vectors.).\n",
            "  glove2word2vec(glove_input_file, word2vec_output_file)\n"
          ]
        }
      ]
    },
    {
      "cell_type": "markdown",
      "source": [
        "# Calculate similarity between two words\n"
      ],
      "metadata": {
        "id": "Ty0W5p99COsx"
      }
    },
    {
      "cell_type": "code",
      "source": [
        "word1 = \"hospital\"\n",
        "word2 = \"doctor\"\n",
        "# Similarity in 50d\n",
        "similarity_50d = model_50d.similarity(word1, word2)\n",
        "# Similarity in 100d\n",
        "word1 = \"hospital\"\n",
        "word2 = \"doctor\"\n",
        "# Similarity in 50d\n",
        "similarity_50d = model_50d.similarity(word1, word2)\n",
        "# Similarity in 100d\n",
        "similarity_100d = model_100d.similarity(word1, word2)\n",
        "# Results\n",
        "word1 = \"hospital\"\n",
        "word2 = \"doctor\"\n",
        "# Similarity in 50d\n",
        "similarity_50d = model_50d.similarity(word1, word2)\n",
        "# Similarity in 100d\n",
        "word1 = \"hospital\"\n",
        "word2 = \"doctor\"\n",
        "# Similarity in 50d\n",
        "similarity_50d = model_50d.similarity(word1, word2)\n",
        "# Similarity in 100d\n",
        "similarity_100d = model_100d.similarity(word1, word2)\n",
        "# Results\n",
        "print(f\"Similarity (50d) between '{word1}' and '{word2}': {similarity_50d:.4f}\")\n",
        "print(f\"Similarity (100d) between '{word1}' and '{word2}': {similarity_100d:.4f}\")"
      ],
      "metadata": {
        "colab": {
          "base_uri": "https://localhost:8080/"
        },
        "id": "Gz3PlH2dCQ3J",
        "outputId": "cb4664de-47cf-4f95-cc5b-142c3db1527d"
      },
      "execution_count": 18,
      "outputs": [
        {
          "output_type": "stream",
          "name": "stdout",
          "text": [
            "Similarity (50d) between 'hospital' and 'doctor': 0.6901\n",
            "Similarity (100d) between 'hospital' and 'doctor': 0.6901\n"
          ]
        }
      ]
    },
    {
      "cell_type": "markdown",
      "source": [
        "#Calculate distance between two words\n"
      ],
      "metadata": {
        "id": "UUd6vT8BCXFh"
      }
    },
    {
      "cell_type": "code",
      "source": [
        "# Calculate distance between two words\n",
        "distance_50d = model_50d.distance(word1, word2)\n",
        "distance_100d = model_100d.distance(word1, word2)\n",
        "\n",
        "# Results\n",
        "# Calculate distance between two words\n",
        "distance_50d = model_50d.distance(word1, word2)\n",
        "distance_100d = model_100d.distance(word1, word2)\n",
        "# Results\n",
        "print(f\"Distance (50d) between '{word1}' and '{word2}': {distance_50d:.4f}\")\n",
        "print(f\"Distance (100d) between '{word1}' and '{word2}': {distance_100d:.4f}\")"
      ],
      "metadata": {
        "colab": {
          "base_uri": "https://localhost:8080/"
        },
        "id": "NQTQHC9cCYNZ",
        "outputId": "78bf02b4-8f63-440c-ed22-a3150bf7dc2f"
      },
      "execution_count": 22,
      "outputs": [
        {
          "output_type": "stream",
          "name": "stdout",
          "text": [
            "Distance (50d) between 'hospital' and 'doctor': 0.3099\n",
            "Distance (100d) between 'hospital' and 'doctor': 0.3099\n"
          ]
        }
      ]
    }
  ]
}